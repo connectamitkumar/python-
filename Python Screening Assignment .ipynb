{
 "cells": [
  {
   "cell_type": "markdown",
   "id": "eeccf8fe",
   "metadata": {},
   "source": [
    "### Python Screening Assignment\n",
    "\n",
    "- question 1. Create a function in python to read the text file and replace specific content of the file.\n",
    "\n",
    "- File name example.txt\n",
    "- Origin file content This is a placement assignment\n",
    "- Replace string Placement should be replaced by screening. \n",
    "- Replaced file content This is a screening assignment"
   ]
  },
  {
   "cell_type": "code",
   "execution_count": 1,
   "id": "62c92884",
   "metadata": {},
   "outputs": [],
   "source": [
    "# creating the file with content\n",
    "\n",
    "f=open('example.txt','w')\n",
    "f.write('This is a placement assignment')\n",
    "f.close()"
   ]
  },
  {
   "cell_type": "code",
   "execution_count": 2,
   "id": "91f3e61f",
   "metadata": {},
   "outputs": [],
   "source": [
    "# replacing the specific content of the file\n",
    "\n",
    "# reading the file\n",
    "with open('example.txt','r') as f:\n",
    "    filecontent=f.read()\n",
    "    \n",
    "filecontent=filecontent.replace('placement','screening') # replacing the string\n",
    "with open('example.txt','w') as file:\n",
    "    file.write(filecontent)"
   ]
  },
  {
   "cell_type": "markdown",
   "id": "db9d46f0",
   "metadata": {},
   "source": [
    "# question 2:\n",
    "\n",
    "###  Demonstrate use of abstract class, multiple inheritance and decorator in python using examples"
   ]
  },
  {
   "cell_type": "markdown",
   "id": "185039d1",
   "metadata": {},
   "source": [
    "# abstract class"
   ]
  },
  {
   "cell_type": "code",
   "execution_count": 3,
   "id": "b598724c",
   "metadata": {},
   "outputs": [
    {
     "name": "stdout",
     "output_type": "stream",
     "text": [
      "7\n",
      "3\n"
     ]
    }
   ],
   "source": [
    "from abc import * \n",
    "class Vehicle(ABC): \n",
    "    @abstractmethod \n",
    "    def noofwheels(self): \n",
    "        pass \n",
    " \n",
    "class Bus(Vehicle): \n",
    "    def noofwheels(self): \n",
    "        return 7 \n",
    "\n",
    "class Auto(Vehicle): \n",
    "    def noofwheels(self): \n",
    "        return 3 \n",
    "b=Bus() \n",
    "print(b.noofwheels())\n",
    "a=Auto() \n",
    "print(a.noofwheels())"
   ]
  },
  {
   "cell_type": "markdown",
   "id": "c18ea53a",
   "metadata": {},
   "source": [
    "# multiple inheritance"
   ]
  },
  {
   "cell_type": "code",
   "execution_count": 4,
   "id": "2309ea30",
   "metadata": {},
   "outputs": [
    {
     "name": "stdout",
     "output_type": "stream",
     "text": [
      "Parent1 Method\n",
      "Parent2 Method\n",
      "Child2 Method\n"
     ]
    }
   ],
   "source": [
    "class P1: \n",
    "    def m1(self): \n",
    "        print(\"Parent1 Method\") \n",
    "class P2: \n",
    "    def m2(self): \n",
    "        print(\"Parent2 Method\") \n",
    "class C(P1,P2): \n",
    "    def m3(self): \n",
    "        print(\"Child2 Method\") \n",
    "c=C() \n",
    "c.m1() \n",
    "c.m2() \n",
    "c.m3()"
   ]
  },
  {
   "cell_type": "markdown",
   "id": "952736ad",
   "metadata": {},
   "source": [
    "# decorator"
   ]
  },
  {
   "cell_type": "code",
   "execution_count": 5,
   "id": "065e7a99",
   "metadata": {},
   "outputs": [
    {
     "name": "stdout",
     "output_type": "stream",
     "text": [
      "Color TV\n"
     ]
    }
   ],
   "source": [
    "def colortv(func):\n",
    "    def inner():\n",
    "        print(\"Color TV\")\n",
    "    return inner\n",
    "@colortv\n",
    "def bwtv():\n",
    "    print(\"Black & white TV\")\n",
    "    \n",
    "    \n",
    "bwtv()"
   ]
  },
  {
   "cell_type": "code",
   "execution_count": null,
   "id": "3cc579ff",
   "metadata": {},
   "outputs": [],
   "source": []
  }
 ],
 "metadata": {
  "kernelspec": {
   "display_name": "Python 3 (ipykernel)",
   "language": "python",
   "name": "python3"
  },
  "language_info": {
   "codemirror_mode": {
    "name": "ipython",
    "version": 3
   },
   "file_extension": ".py",
   "mimetype": "text/x-python",
   "name": "python",
   "nbconvert_exporter": "python",
   "pygments_lexer": "ipython3",
   "version": "3.9.7"
  }
 },
 "nbformat": 4,
 "nbformat_minor": 5
}
